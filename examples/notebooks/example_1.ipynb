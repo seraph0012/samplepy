{
 "cells": [
  {
   "cell_type": "markdown",
   "id": "75e947a6-82ad-49fa-83c9-1a4769bf956f",
   "metadata": {},
   "source": [
    "# Minimal working example"
   ]
  },
  {
   "cell_type": "markdown",
   "id": "07df1bba-4019-445c-8ee5-83807fc04442",
   "metadata": {},
   "source": [
    "Here, we are going to create a minimal working example."
   ]
  },
  {
   "cell_type": "code",
   "execution_count": 2,
   "id": "2c5cee0a-f9a7-4b82-9fba-17b9b57ab593",
   "metadata": {
    "execution": {
     "iopub.execute_input": "2022-07-01T13:24:20.128699Z",
     "iopub.status.busy": "2022-07-01T13:24:20.128138Z",
     "iopub.status.idle": "2022-07-01T13:24:20.135432Z",
     "shell.execute_reply": "2022-07-01T13:24:20.134250Z",
     "shell.execute_reply.started": "2022-07-01T13:24:20.128654Z"
    }
   },
   "outputs": [
    {
     "name": "stdout",
     "output_type": "stream",
     "text": [
      "Hello world\n"
     ]
    }
   ],
   "source": [
    "print('Hello world')"
   ]
  }
 ],
 "metadata": {
  "kernelspec": {
   "display_name": "risk",
   "language": "python",
   "name": "risk"
  },
  "language_info": {
   "codemirror_mode": {
    "name": "ipython",
    "version": 3
   },
   "file_extension": ".py",
   "mimetype": "text/x-python",
   "name": "python",
   "nbconvert_exporter": "python",
   "pygments_lexer": "ipython3",
   "version": "3.8.13"
  }
 },
 "nbformat": 4,
 "nbformat_minor": 5
}
